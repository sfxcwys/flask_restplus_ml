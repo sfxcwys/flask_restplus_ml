{
 "cells": [
  {
   "cell_type": "code",
   "execution_count": 1,
   "metadata": {
    "collapsed": true
   },
   "outputs": [],
   "source": [
    "import pandas as pd\n",
    "import numpy as np\n",
    "from sklearn.base import BaseEstimator, TransformerMixin\n",
    "from sklearn.preprocessing import Imputer, StandardScaler, LabelEncoder, LabelBinarizer\n",
    "from sklearn.pipeline import Pipeline, FeatureUnion\n",
    "from sklearn.ensemble import RandomForestClassifier\n",
    "from sklearn.model_selection import RandomizedSearchCV\n",
    "import pickle\n",
    "import PipelineHelper"
   ]
  },
  {
   "cell_type": "code",
   "execution_count": 2,
   "metadata": {
    "collapsed": true
   },
   "outputs": [],
   "source": [
    "df = pd.read_csv('train.csv')"
   ]
  },
  {
   "cell_type": "code",
   "execution_count": 3,
   "metadata": {},
   "outputs": [
    {
     "data": {
      "text/plain": [
       "Index(['PassengerId', 'Survived', 'Pclass', 'Name', 'Sex', 'Age', 'SibSp',\n",
       "       'Parch', 'Ticket', 'Fare', 'Cabin', 'Embarked'],\n",
       "      dtype='object')"
      ]
     },
     "execution_count": 3,
     "metadata": {},
     "output_type": "execute_result"
    }
   ],
   "source": [
    "df.columns"
   ]
  },
  {
   "cell_type": "code",
   "execution_count": 4,
   "metadata": {
    "collapsed": true
   },
   "outputs": [],
   "source": [
    "# predict Survived from Pclass, Sex, Age and Fare"
   ]
  },
  {
   "cell_type": "code",
   "execution_count": 5,
   "metadata": {
    "collapsed": true
   },
   "outputs": [],
   "source": [
    "target = 'Survived'\n",
    "numerical_features = ['Age', 'Fare']\n",
    "categorical_features = ['Pclass', 'Sex']"
   ]
  },
  {
   "cell_type": "code",
   "execution_count": 6,
   "metadata": {},
   "outputs": [
    {
     "data": {
      "text/plain": [
       "{1, 2, 3}"
      ]
     },
     "execution_count": 6,
     "metadata": {},
     "output_type": "execute_result"
    }
   ],
   "source": [
    "set(df['Pclass'].tolist())"
   ]
  },
  {
   "cell_type": "code",
   "execution_count": 7,
   "metadata": {
    "collapsed": true
   },
   "outputs": [],
   "source": [
    "mi = PipelineHelper.MultiItemSelector(key_list=numerical_features)\n",
    "imputer = Imputer(strategy='median')\n",
    "scaler = StandardScaler()\n",
    "numerical_pipeline = Pipeline([\n",
    "    ('selector', mi),\n",
    "    ('imputer', imputer),\n",
    "    ('scaler', scaler)\n",
    "])"
   ]
  },
  {
   "cell_type": "code",
   "execution_count": 8,
   "metadata": {
    "collapsed": true
   },
   "outputs": [],
   "source": [
    "categorical_pipelines = []\n",
    "\n",
    "for feature in categorical_features:\n",
    "    pipeline = Pipeline([\n",
    "        ('selector', PipelineHelper.ItemSelector(key=feature)),\n",
    "        ('one_hot', PipelineHelper.CustomLabelBinarizer(unseen='__New__'))\n",
    "    ])\n",
    "    \n",
    "    categorical_pipelines.append((feature+'_categorical_pipeline', pipeline))"
   ]
  },
  {
   "cell_type": "code",
   "execution_count": 9,
   "metadata": {
    "collapsed": true
   },
   "outputs": [],
   "source": [
    "feature_union = FeatureUnion(\n",
    "    transformer_list = [('numerical_pipeline', numerical_pipeline)] + categorical_pipelines\n",
    ")\n",
    "\n",
    "model_pipeline = Pipeline([\n",
    "    ('feature_union', feature_union),\n",
    "    ('algorithm', RandomForestClassifier(n_jobs=-1, random_state=1))\n",
    "])\n",
    "\n",
    "parameters = {'algorithm__n_estimators': [50, 100, 200, 500],\n",
    "              \"algorithm__criterion\": [\"gini\", \"entropy\"],\n",
    "              'algorithm__max_features': [\"auto\", \"sqrt\", \"log2\"],\n",
    "              \"algorithm__max_depth\": [1, 3, 10, 100, None],\n",
    "              \"algorithm__bootstrap\": [True, False]}"
   ]
  },
  {
   "cell_type": "code",
   "execution_count": 10,
   "metadata": {
    "scrolled": false
   },
   "outputs": [
    {
     "name": "stdout",
     "output_type": "stream",
     "text": [
      "Fitting 3 folds for each of 2 candidates, totalling 6 fits\n"
     ]
    },
    {
     "name": "stderr",
     "output_type": "stream",
     "text": [
      "[Parallel(n_jobs=1)]: Done   6 out of   6 | elapsed:    5.4s finished\n"
     ]
    },
    {
     "name": "stdout",
     "output_type": "stream",
     "text": [
      "best param {'algorithm__n_estimators': 500, 'algorithm__max_features': 'sqrt', 'algorithm__max_depth': None, 'algorithm__criterion': 'entropy', 'algorithm__bootstrap': True}\n"
     ]
    }
   ],
   "source": [
    "grid_search = RandomizedSearchCV(model_pipeline, parameters, n_jobs=1, verbose=1, refit=True, scoring='roc_auc', n_iter=2)\n",
    "grid_search.fit(df, df[target].values)\n",
    "print('best param', grid_search.best_params_)"
   ]
  },
  {
   "cell_type": "code",
   "execution_count": 11,
   "metadata": {},
   "outputs": [
    {
     "name": "stdout",
     "output_type": "stream",
     "text": [
      "finished pickling model\n"
     ]
    }
   ],
   "source": [
    "# retrain the pipeline with the best param and pickle the trained pipeline\n",
    "cleaned_best_params = {key.split('__')[1]: grid_search.best_params_[key] for key in grid_search.best_params_}\n",
    "model_pipeline.named_steps['algorithm'].set_params(n_jobs=-1, **cleaned_best_params)\n",
    "model_pipeline.fit(df, df[target].values)\n",
    "pickle.dump(model_pipeline, open('model_pipeline.pkl', 'wb'))\n",
    "print('finished pickling model')"
   ]
  },
  {
   "cell_type": "code",
   "execution_count": 12,
   "metadata": {},
   "outputs": [
    {
     "data": {
      "text/plain": [
       "[0.596, 0.424]"
      ]
     },
     "execution_count": 12,
     "metadata": {},
     "output_type": "execute_result"
    }
   ],
   "source": [
    "# test the pickled model\n",
    "loaded_model_pipeline = pickle.load(open('model_pipeline.pkl', 'rb'))\n",
    "input_data1 = {'Age': 12, 'Fare': 1, 'Pclass': 1, 'Sex': None}\n",
    "input_data2 = {'Age': 90, 'Fare': 100, 'Pclass': 100, 'Sex': 'Haha'}\n",
    "[each[1] for each in loaded_model_pipeline.predict_proba(pd.DataFrame([input_data1, input_data2]))]"
   ]
  }
 ],
 "metadata": {
  "kernelspec": {
   "display_name": "Python 3",
   "language": "python",
   "name": "python3"
  },
  "language_info": {
   "codemirror_mode": {
    "name": "ipython",
    "version": 3
   },
   "file_extension": ".py",
   "mimetype": "text/x-python",
   "name": "python",
   "nbconvert_exporter": "python",
   "pygments_lexer": "ipython3",
   "version": "3.6.1"
  }
 },
 "nbformat": 4,
 "nbformat_minor": 2
}
